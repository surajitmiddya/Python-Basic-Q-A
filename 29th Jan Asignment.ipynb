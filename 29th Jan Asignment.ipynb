{
 "cells": [
  {
   "cell_type": "markdown",
   "id": "09d1f6bb-e8c3-4443-85f7-319de1d8cc36",
   "metadata": {},
   "source": [
    "Q.1) Who developed Python Programming Language?"
   ]
  },
  {
   "cell_type": "raw",
   "id": "908fbb46-1aee-4c61-873f-181197dc2df3",
   "metadata": {},
   "source": [
    "Ans: Python programming language was created by Guido van Rossum."
   ]
  },
  {
   "cell_type": "markdown",
   "id": "ac3540a6-093f-4f43-8f36-cdb5422c2d0c",
   "metadata": {},
   "source": [
    "Q.2) Which type of programming does Python support?"
   ]
  },
  {
   "cell_type": "markdown",
   "id": "17688f8f-6ed1-4c80-8f81-1a0932306aab",
   "metadata": {},
   "source": [
    "Ans: Python is a high-level, interpreted programming language that supports multiple programming paradigms, including:\n",
    "\n",
    "Object-oriented programming (OOP)\n",
    "Procedural programming\n",
    "Functional programming\n",
    "Imperative programming\n",
    "Event-driven programming\n",
    "Aspect-oriented programming\n",
    "Metaprogramming\n",
    "\n",
    "Python's flexibility in supporting multiple programming paradigms makes it a versatile language suitable for a wide range of applications, from web development and scientific computing to artificial intelligence and machine learning."
   ]
  },
  {
   "cell_type": "markdown",
   "id": "45f26d26-6f9b-4d10-9364-5ced7c46a5b2",
   "metadata": {},
   "source": [
    "Q.3) Is Python case sensitive when dealing with identifiers?"
   ]
  },
  {
   "cell_type": "raw",
   "id": "b2d16453-8d8d-4960-82dd-9dbf4d86780b",
   "metadata": {},
   "source": [
    "Ans: Yes, Python is a case-sensitive language, i.e., it treats uppercase and lowercase characters differently. This applies to identifiers too. So we must avoid using the same name with different cases while naming identifiers."
   ]
  },
  {
   "cell_type": "markdown",
   "id": "dc25875d-d859-443b-b480-9882b546a991",
   "metadata": {},
   "source": [
    "Q.4) What is the correct extension of Python file?"
   ]
  },
  {
   "cell_type": "raw",
   "id": "a4a2bc46-5c81-419c-a584-8b193e7e172e",
   "metadata": {},
   "source": [
    "Ans: .py is the correct extension of Python file."
   ]
  },
  {
   "cell_type": "markdown",
   "id": "857244a5-4e55-4f1d-a2d5-2f6e57179fa3",
   "metadata": {},
   "source": [
    "Q.5) Is Python code compiled or interpreted?"
   ]
  },
  {
   "cell_type": "raw",
   "id": "4ceec464-fe20-4da3-bf96-73fe27bce4a3",
   "metadata": {},
   "source": [
    "Ans: Python is an interpreted language, which means that the code is not compiled into machine code like in a compiled language such as C or C++. Instead, Python code is interpreted by the Python interpreter line by line, converting each line of code into executable code as it is encountered. This makes Python code easier to write and debug, as well as more flexible, but it can also make it slower than compiled languages for certain tasks. However, Python does have just-in-time (JIT) compilers, such as PyPy, which can improve performance for certain workloads."
   ]
  },
  {
   "cell_type": "markdown",
   "id": "6cac7d91-335c-4474-9c3b-5166d13c365d",
   "metadata": {},
   "source": [
    "Q.6) Name a few blocks of code used to define in Python language?"
   ]
  },
  {
   "cell_type": "raw",
   "id": "17da10fe-cad8-4d19-ad34-88bb01bc1388",
   "metadata": {},
   "source": [
    "Ans: In Python, there are several code blocks that are commonly used to define the structure and behavior of programs. These include:\n",
    "\n",
    "1) Function blocks: These are used to define reusable pieces of code that perform a specific task. Functions are defined using the \"def\" keyword, followed by the function name and any necessary parameters.\n",
    "\n",
    "2) Conditional blocks: These are used to define branches of code that are executed only if a certain condition is met. In Python, the \"if\", \"elif\", and \"else\" keywords are used to define conditional blocks.\n",
    "\n",
    "3) Looping blocks: These are used to repeat a block of code a certain number of times, or until a certain condition is met. In Python, the \"for\" and \"while\" keywords are used to define looping blocks.\n",
    "\n",
    "4) Class blocks: These are used to define custom data types and their associated behavior. Classes are defined using the \"class\" keyword, followed by the class name and any necessary methods and attributes.\n",
    "\n",
    "5) Exception blocks: These are used to handle errors and unexpected conditions that may occur during program execution. In Python, the \"try\", \"except\", and \"finally\" keywords are used to define exception blocks"
   ]
  },
  {
   "cell_type": "markdown",
   "id": "ca5b2ead-a6f1-454f-bd6d-68e83dbac316",
   "metadata": {},
   "source": [
    "Q.7) State a character used to give single-line comments in Python?"
   ]
  },
  {
   "cell_type": "raw",
   "id": "5ebe49fa-9cbc-40cc-8944-aea00befaabd",
   "metadata": {},
   "source": [
    "Ans: In Python, we can use the hash symbol (#) to give single-line comments."
   ]
  },
  {
   "cell_type": "markdown",
   "id": "6eb5cb10-9455-4e48-9934-e1c1a6ca6d7f",
   "metadata": {},
   "source": [
    "Q.8) Mention functions which can help us to find out the version of Python that we are currently work on?"
   ]
  },
  {
   "cell_type": "raw",
   "id": "e1799af2-eeb4-4cb0-b5b3-b2f8746da033",
   "metadata": {},
   "source": [
    "Ans: Here are some functions that can help to find out the version of Python that are currently working on:\n",
    "\n",
    "sys.version - This function returns a string containing the version number of the Python interpreter, as well as additional information such as the build number and date.\n",
    "\n",
    "sys.version_info - This function returns a named tuple containing the version number of the Python interpreter as integers. You can use this to check specific parts of the version number, such as the major or minor version.\n",
    "\n",
    "platform.python_version() - This function returns a string containing the version number of the Python interpreter, as well as additional information about the operating system.\n",
    "\n",
    "platform.python_version_tuple() - This function returns a tuple containing the version number of the Python interpreter as strings. You can use this to check specific parts of the version number, such as the major or minor version."
   ]
  },
  {
   "cell_type": "markdown",
   "id": "e2678f8e-573c-4f75-a9c3-cbaa76a32501",
   "metadata": {},
   "source": [
    "Q.9) Python supports the creation of anonymous functions at runtime,using a construct called..."
   ]
  },
  {
   "cell_type": "raw",
   "id": "af582cbc-7155-4482-975d-f1ac049f8002",
   "metadata": {},
   "source": [
    "Ans: Python supports the creation of anonymous functions at runtime using a construct called \"lambda\" expressions or lambda functions."
   ]
  },
  {
   "cell_type": "markdown",
   "id": "64879800-897d-4c97-8838-0f92f8b50324",
   "metadata": {},
   "source": [
    "Q.10) What does PIP stand for python?"
   ]
  },
  {
   "cell_type": "raw",
   "id": "04470046-cbf2-4c82-8b2d-af943ec0c01a",
   "metadata": {},
   "source": [
    "Ans: Preferred Installer Program"
   ]
  },
  {
   "cell_type": "markdown",
   "id": "79b3a9ae-56e5-4e93-b570-5d58f502badf",
   "metadata": {},
   "source": [
    "Q.11) Mention a few built-in function n python?"
   ]
  },
  {
   "cell_type": "raw",
   "id": "646e086a-4290-42b3-9193-630707219f9c",
   "metadata": {},
   "source": [
    "Ans: \n",
    "    \n",
    "print(): Used to print text or values to the console.\n",
    "\n",
    "type(): Returns the type of an object.\n",
    "\n",
    "len(): Returns the length of an object.\n",
    "\n",
    "input(): Used to get input from the user via the console.\n",
    "\n",
    "range(): Used to generate a sequence of numbers."
   ]
  },
  {
   "cell_type": "markdown",
   "id": "1bed2ae4-f0b8-4a2c-8ef4-28d07d68a352",
   "metadata": {},
   "source": [
    "Q.12) What is the maximum possible length of an identifier in python?"
   ]
  },
  {
   "cell_type": "raw",
   "id": "23573212-d1b6-42c3-8293-9922742bd54e",
   "metadata": {},
   "source": [
    "Ans: An identifier can have a maximum length of 79 characters in Python."
   ]
  },
  {
   "cell_type": "markdown",
   "id": "73a646c7-2f22-453e-9020-0d58aad53b38",
   "metadata": {},
   "source": [
    "Q.13) What are the benefits of using Python?"
   ]
  },
  {
   "cell_type": "raw",
   "id": "d478527c-4b19-4abf-912b-52ff78e99d07",
   "metadata": {},
   "source": [
    "Ans:i)Easy to Learn and Use. \n",
    "ii)Python has a simple syntax that is easy to understand and learn, making it a great choice for beginners and experienced programmers alike.\n",
    "iii) Python is a versatile language that can be used for a wide range of applications, from web development and scientific computing to machine learning and artificial intelligence. \n",
    "iv) Object-Oriented Programming: Python supports object-oriented programming (OOP) paradigms, making it easy to create reusable code and maintain large-scale applications."
   ]
  },
  {
   "cell_type": "markdown",
   "id": "b5bbc168-6844-4177-9fd4-93a09b6886fe",
   "metadata": {},
   "source": [
    "Q.14) How is memory managed in Python?"
   ]
  },
  {
   "cell_type": "raw",
   "id": "537752dc-1593-451a-8e06-ffe38793de6c",
   "metadata": {},
   "source": [
    "Ans Memory management in Python is handled automatically by the language runtime, using a combination of techniques such as reference counting and garbage collection."
   ]
  },
  {
   "cell_type": "markdown",
   "id": "4a11dedd-6aa0-4f50-85bd-0fb65b3dc0a4",
   "metadata": {},
   "source": [
    "Q.15) How to install Python on Windows and set path variables?"
   ]
  },
  {
   "cell_type": "raw",
   "id": "a9459952-5999-44fa-9cec-ca88f809cf4c",
   "metadata": {},
   "source": [
    "Ans: Here are the steps to install Python on Windows and set path variables:\n",
    "\n",
    "1.Download the latest version of Python from the official website (https://www.python.org/downloads/windows/).\n",
    "\n",
    "2.Run the downloaded installer and select the \"Add Python X.X to PATH\" option. This will add the Python installation directory to your system's PATH environment variable.\n",
    "\n",
    "3.Follow the instructions in the installer to complete the installation process.\n",
    "\n",
    "4.Once the installation is complete, open a command prompt and type \"python\" to confirm that Python is installed correctly and the PATH variables are set.\n",
    "\n",
    "5.If you encounter any issues, you can manually set the PATH variables by following these steps:\n",
    "\n",
    "a. Open the \"Environment Variables\" window by typing \"env\" in the Start menu search bar and selecting \"Edit the system environment variables\".\n",
    "\n",
    "b. Click on the \"Environment Variables\" button at the bottom of the window.\n",
    "\n",
    "c. In the \"System Variables\" section, scroll down to find the \"Path\" variable and click on \"Edit\".\n",
    "\n",
    "d. Click on \"New\" and add the path to the Python installation directory (e.g., \"C:\\PythonXX\").\n",
    "\n",
    "e. Click \"OK\" to save the changes and close all windows.\n",
    "\n",
    "f. Open a new command prompt and type \"python\" to confirm that Python is installed correctly and the PATH variables are set."
   ]
  },
  {
   "cell_type": "markdown",
   "id": "1e5ceccd-ea78-4634-a1e0-1a45a78e435a",
   "metadata": {},
   "source": [
    "Q.16) Is indentation required in python?"
   ]
  },
  {
   "cell_type": "raw",
   "id": "730bc97b-abcb-4542-9cba-5bb1bb547a7f",
   "metadata": {},
   "source": [
    "Ans: Yes, indentation is required in Python"
   ]
  }
 ],
 "metadata": {
  "kernelspec": {
   "display_name": "Python 3 (ipykernel)",
   "language": "python",
   "name": "python3"
  },
  "language_info": {
   "codemirror_mode": {
    "name": "ipython",
    "version": 3
   },
   "file_extension": ".py",
   "mimetype": "text/x-python",
   "name": "python",
   "nbconvert_exporter": "python",
   "pygments_lexer": "ipython3",
   "version": "3.10.8"
  }
 },
 "nbformat": 4,
 "nbformat_minor": 5
}
